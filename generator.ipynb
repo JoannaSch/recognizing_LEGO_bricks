{
 "cells": [
  {
   "cell_type": "code",
   "execution_count": 1,
   "metadata": {},
   "outputs": [],
   "source": [
    "import numpy as np\n",
    "import pandas as pd\n",
    "import os\n",
    "import matplotlib.pyplot as plt\n",
    "import tensorflow as tf\n",
    "import random\n",
    "from tensorflow.keras.utils import to_categorical\n",
    "from tensorflow.keras.preprocessing.image import load_img, img_to_array\n",
    "from tensorflow.keras.layers import Dense,Flatten,Dropout,Conv2D,MaxPooling2D,BatchNormalization\n",
    "from tensorflow.keras.optimizers import Adam\n",
    "import cv2\n",
    "import keras\n",
    "from keras.models import Sequential\n",
    "#from sklearn.metrics import classification_report, log_loss, accuracy_score\n",
    "#from sklearn.model_selection import train_test_split\n",
    "from tqdm import tqdm\n",
    "from keras.preprocessing.image import ImageDataGenerator\n"
   ]
  },
  {
   "cell_type": "code",
   "execution_count": 2,
   "metadata": {},
   "outputs": [],
   "source": [
    "data_dir = 'C:/Users/monop/Desktop/BOOTCAMP/projekt_DL/64'\n"
   ]
  },
  {
   "cell_type": "code",
   "execution_count": 23,
   "metadata": {},
   "outputs": [
    {
     "name": "stdout",
     "output_type": "stream",
     "text": [
      "Found 800000 images belonging to 200 classes.\n"
     ]
    }
   ],
   "source": [
    "datagen = ImageDataGenerator(preprocessing_function=lambda x: cv2.cvtColor(x, cv2.COLOR_BGR2RGB))\n",
    "generator = datagen.flow_from_directory(\n",
    "    data_dir,\n",
    "    class_mode='categorical',\n",
    "    target_size=(64, 64),\n",
    "    shuffle=False\n",
    ")\n",
    "\n",
    "data, target = next(generator)\n"
   ]
  },
  {
   "cell_type": "code",
   "execution_count": 24,
   "metadata": {},
   "outputs": [
    {
     "name": "stderr",
     "output_type": "stream",
     "text": [
      "Clipping input data to the valid range for imshow with RGB data ([0..1] for floats or [0..255] for integers).\n"
     ]
    },
    {
     "data": {
      "image/png": "[encoded data removed]",
      "text/plain": [
       "<Figure size 432x288 with 1 Axes>"
      ]
     },
     "metadata": {
      "needs_background": "light"
     },
     "output_type": "display_data"
    }
   ],
   "source": [
    "plt.imshow(data[0])\n",
    "plt.show()"
   ]
  },
  {
   "cell_type": "code",
   "execution_count": 25,
   "metadata": {},
   "outputs": [
    {
     "data": {
      "text/plain": [
       "(32, 64, 64, 3)"
      ]
     },
     "execution_count": 25,
     "metadata": {},
     "output_type": "execute_result"
    }
   ],
   "source": [
    "data.shape"
   ]
  },
  {
   "cell_type": "code",
   "execution_count": 26,
   "metadata": {},
   "outputs": [
    {
     "name": "stdout",
     "output_type": "stream",
     "text": [
      "[[[207. 207. 213.]\n",
      "  [188. 188. 194.]\n",
      "  [189. 189. 195.]\n",
      "  ...\n",
      "  [232. 229. 221.]\n",
      "  [219. 217. 207.]\n",
      "  [237. 235. 224.]]\n",
      "\n",
      " [[203. 203. 209.]\n",
      "  [191. 191. 197.]\n",
      "  [193. 193. 199.]\n",
      "  ...\n",
      "  [229. 227. 219.]\n",
      "  [217. 214. 206.]\n",
      "  [233. 231. 221.]]\n",
      "\n",
      " [[198. 198. 204.]\n",
      "  [189. 189. 195.]\n",
      "  [193. 193. 199.]\n",
      "  ...\n",
      "  [229. 226. 222.]\n",
      "  [203. 200. 195.]\n",
      "  [207. 204. 199.]]\n",
      "\n",
      " ...\n",
      "\n",
      " [[ 46.  51.  66.]\n",
      "  [ 66.  69.  83.]\n",
      "  [101. 105. 116.]\n",
      "  ...\n",
      "  [101. 100. 104.]\n",
      "  [127. 126. 130.]\n",
      "  [184. 183. 187.]]\n",
      "\n",
      " [[ 76.  82.  93.]\n",
      "  [ 93.  97. 108.]\n",
      "  [127. 129. 139.]\n",
      "  ...\n",
      "  [108. 107. 111.]\n",
      "  [128. 127. 131.]\n",
      "  [175. 174. 178.]]\n",
      "\n",
      " [[ 93.  97. 108.]\n",
      "  [104. 109. 118.]\n",
      "  [135. 138. 146.]\n",
      "  ...\n",
      "  [107. 106. 110.]\n",
      "  [123. 122. 126.]\n",
      "  [161. 160. 164.]]]\n"
     ]
    }
   ],
   "source": [
    "print(data[0])"
   ]
  },
  {
   "cell_type": "code",
   "execution_count": null,
   "metadata": {},
   "outputs": [],
   "source": []
  }
 ],
 "metadata": {
  "kernelspec": {
   "display_name": "base",
   "language": "python",
   "name": "python3"
  },
  "language_info": {
   "codemirror_mode": {
    "name": "ipython",
    "version": 3
   },
   "file_extension": ".py",
   "mimetype": "text/x-python",
   "name": "python",
   "nbconvert_exporter": "python",
   "pygments_lexer": "ipython3",
   "version": "3.9.12"
  },
  "orig_nbformat": 4
 },
 "nbformat": 4,
 "nbformat_minor": 2
}
