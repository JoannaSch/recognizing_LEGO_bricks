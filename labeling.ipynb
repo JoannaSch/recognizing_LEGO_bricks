{
 "cells": [
  {
   "cell_type": "code",
   "execution_count": 1,
   "id": "155fd43d",
   "metadata": {},
   "outputs": [],
   "source": [
    "import numpy as np\n",
    "import os\n",
    "import cv2\n",
    "from tqdm import tqdm"
   ]
  },
  {
   "cell_type": "code",
   "execution_count": 4,
   "id": "f0a20937",
   "metadata": {},
   "outputs": [],
   "source": [
    "data_dir = r\"C:\\Users\\joann\\OneDrive\\Dokumenty\\MEGAsync\\Asia\\DATA_SCIENCE\\DL\\projekt\\test\"\n"
   ]
  },
  {
   "cell_type": "code",
   "execution_count": 5,
   "id": "5eddfabc",
   "metadata": {},
   "outputs": [],
   "source": [
    "labels = [f for f in os.listdir(data_dir)]"
   ]
  },
  {
   "cell_type": "code",
   "execution_count": 6,
   "id": "d1b0b49e",
   "metadata": {},
   "outputs": [
    {
     "data": {
      "text/plain": [
       "['2357', '2412b', '2420', '2429', '2430', '2431', '2432', '2436', '2445']"
      ]
     },
     "execution_count": 6,
     "metadata": {},
     "output_type": "execute_result"
    }
   ],
   "source": [
    "labels"
   ]
  },
  {
   "cell_type": "code",
   "execution_count": 7,
   "id": "1e22ef7e",
   "metadata": {},
   "outputs": [
    {
     "name": "stderr",
     "output_type": "stream",
     "text": [
      "Processing labels: 100%|██████████| 9/9 [00:49<00:00,  5.48s/it]\n"
     ]
    }
   ],
   "source": [
    "data = []\n",
    "target = []\n",
    "\n",
    "for label in tqdm(labels, desc='Processing labels'):\n",
    "    path = os.path.join(data_dir, label)\n",
    "    for img in tqdm(os.listdir(path), desc=f'Processing label: {label}', leave=False):\n",
    "        img_path = os.path.join(path, img)\n",
    "        image = cv2.imread(img_path)\n",
    "        data.append(image)\n",
    "        target.append(label)"
   ]
  },
  {
   "cell_type": "code",
   "execution_count": 6,
   "id": "46b682a8",
   "metadata": {},
   "outputs": [],
   "source": [
    "data_array = np.array(data)\n",
    "target_array = np.array(target)\n"
   ]
  },
  {
   "cell_type": "code",
   "execution_count": 7,
   "id": "db7c7c75",
   "metadata": {},
   "outputs": [],
   "source": [
    "np.save('data_array2.npy', data_array)\n",
    "np.save('target_array2.npy', target_array)"
   ]
  }
 ],
 "metadata": {
  "kernelspec": {
   "display_name": "Python 3 (ipykernel)",
   "language": "python",
   "name": "python3"
  },
  "language_info": {
   "codemirror_mode": {
    "name": "ipython",
    "version": 3
   },
   "file_extension": ".py",
   "mimetype": "text/x-python",
   "name": "python",
   "nbconvert_exporter": "python",
   "pygments_lexer": "ipython3",
   "version": "3.10.8"
  }
 },
 "nbformat": 4,
 "nbformat_minor": 5
}
